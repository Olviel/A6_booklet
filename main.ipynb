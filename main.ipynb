{
 "cells": [
  {
   "cell_type": "code",
   "execution_count": 19,
   "metadata": {},
   "outputs": [
    {
     "name": "stderr",
     "output_type": "stream",
     "text": [
      "C:\\Users\\Olivi\\AppData\\Local\\Temp\\ipykernel_24492\\2620811856.py:93: DeprecationWarning: ANTIALIAS is deprecated and will be removed in Pillow 10 (2023-07-01). Use LANCZOS or Resampling.LANCZOS instead.\n",
      "  a6_image = Image.open(input_paths[page_num]).resize(a6_size, Image.ANTIALIAS)\n"
     ]
    }
   ],
   "source": [
    "from functions import *\n",
    "\n",
    "# Usage\n",
    "folder_path = 'Input'  # Update with the correct folder path\n",
    "output_path = 'Output'  # Output PNG file path\n",
    "\n",
    "create_booklet(folder_path, output_path)"
   ]
  }
 ],
 "metadata": {
  "kernelspec": {
   "display_name": "Python 3",
   "language": "python",
   "name": "python3"
  },
  "language_info": {
   "codemirror_mode": {
    "name": "ipython",
    "version": 3
   },
   "file_extension": ".py",
   "mimetype": "text/x-python",
   "name": "python",
   "nbconvert_exporter": "python",
   "pygments_lexer": "ipython3",
   "version": "3.11.7"
  }
 },
 "nbformat": 4,
 "nbformat_minor": 2
}
